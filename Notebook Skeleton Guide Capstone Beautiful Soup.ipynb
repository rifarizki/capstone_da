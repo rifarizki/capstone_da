{
 "cells": [
  {
   "cell_type": "markdown",
   "metadata": {},
   "source": [
    "# Capstone Webscrapping using BeautifulSoup\n",
    "\n",
    "This notebook contains guidances & tasks on the data processing for the application\n",
    "\n",
    "## Background\n",
    "\n",
    "We will explore and analyse the historical exchange rates between the Indonesian Rupiah and the US Dollar from May - October 2021.\n",
    "The data that we used in here was obtained from exchange-rates.org website using BeautifulSoup to extract the data.\n",
    "\n",
    "## Requesting the Data and Creating a BeautifulSoup\n",
    "\n",
    "Let's begin with requesting the web from the site with `get` method."
   ]
  },
  {
   "cell_type": "code",
   "execution_count": 2,
   "metadata": {
    "ExecuteTime": {
     "end_time": "2020-01-13T05:12:23.275508Z",
     "start_time": "2020-01-13T05:12:20.009898Z"
    }
   },
   "outputs": [],
   "source": [
    "import requests\n",
    "\n",
    "url_get = requests.get('https://www.exchange-rates.org/history/IDR/USD/T')"
   ]
  },
  {
   "cell_type": "markdown",
   "metadata": {},
   "source": [
    "To visualize what exactly you get from the `request.get`, we can use .content so ee what we exactly get, in here i slice it so it won't make our screen full of the html we get from the page. You can delete the slicing if you want to see what we fully get."
   ]
  },
  {
   "cell_type": "code",
   "execution_count": 3,
   "metadata": {
    "ExecuteTime": {
     "end_time": "2020-01-13T05:12:23.290648Z",
     "start_time": "2020-01-13T05:12:23.277650Z"
    }
   },
   "outputs": [
    {
     "data": {
      "text/plain": [
       "b'!DOCTYPE html>\\r\\n<!--[if lt IE 9]>\\r\\n<html class=\"no-js ie8 oldie\" lang=\"en\" xml:lang=\\'en\\'>\\r\\n<![endif]-->\\r\\n<!--[if gt IE 8]><!--><html class=\"no-js\" lang=\"en\" xml:lang=\\'en\\'><!--<![endif]-->\\r\\n<head>\\r\\n<title>Indonesian Rupiah Exchange Rate - US Dollar - Historical Exchange Rates</title>\\r\\n<meta http-equiv=\"X-UA-Compatible\" content=\"IE=edge\">\\r\\n<meta name=\"viewport\" content=\"width=device-width, initial-scale=1, maximum-scale=5\">\\r\\n<meta charset=\"utf-8\" /><meta http-equiv=\"Content-Type\" content=\"text/ht'"
      ]
     },
     "execution_count": 3,
     "metadata": {},
     "output_type": "execute_result"
    }
   ],
   "source": [
    "url_get.content[1:500]"
   ]
  },
  {
   "cell_type": "markdown",
   "metadata": {},
   "source": [
    "As we can see we get a very unstructured and complex html, which actually contains the codes needed to show the webpages on your web browser. But we as human still confused what and where we can use that piece of code, so here where we use the beautifulsoup. Beautiful soup class will result a beautifulsoup object. Beautiful Soup transforms a complex HTML document into a complex tree of Python objects. \n",
    "\n",
    "Let's make Beautiful soup object and feel free to explore the object here."
   ]
  },
  {
   "cell_type": "code",
   "execution_count": 4,
   "metadata": {
    "ExecuteTime": {
     "end_time": "2020-01-13T05:12:23.808122Z",
     "start_time": "2020-01-13T05:12:23.292610Z"
    }
   },
   "outputs": [],
   "source": [
    "from bs4 import BeautifulSoup \n",
    "\n",
    "soup = BeautifulSoup(url_get.content,\"html.parser\")"
   ]
  },
  {
   "cell_type": "markdown",
   "metadata": {},
   "source": [
    "## Finding the right key to scrap the data & Extracting the right information"
   ]
  },
  {
   "cell_type": "markdown",
   "metadata": {},
   "source": [
    "Find the key and put the key into the `.find()` Put all the exploring the right key at this cell."
   ]
  },
  {
   "cell_type": "markdown",
   "metadata": {},
   "source": [
    "Note: 'find' will have an output of a tree while 'find_all' will gives us a list"
   ]
  },
  {
   "cell_type": "code",
   "execution_count": 5,
   "metadata": {
    "ExecuteTime": {
     "end_time": "2020-01-13T05:12:23.878904Z",
     "start_time": "2020-01-13T05:12:23.854974Z"
    }
   },
   "outputs": [
    {
     "name": "stdout",
     "output_type": "stream",
     "text": [
      "table class=\"table table-striped table-hover table-hover-solid-row table-simple history-data\">\n",
      " <tbody>\n",
      "  <tr>\n",
      "   <td>\n",
      "    10/22/2021\n",
      "   </td>\n",
      "   <td>\n",
      "    Friday\n",
      "   </td>\n",
      "   <td>\n",
      "    <a href=\"/Rate/USD/IDR/10-22-2021\">\n",
      "     14,110.21079\n",
      "    </a>\n",
      "    IDR\n",
      "   </td>\n",
      "   <td class=\"text-narrow-screen-hidden\">\n",
      "    <a href=\"/Rate/USD/IDR/10-22-2021\">\n",
      "     USD IDR rate for 10/22/2021\n",
      "    </a>\n",
      "   </td>\n",
      "  </tr>\n",
      "  <tr>\n",
      "   <td>\n",
      "    10/21/2021\n",
      "   </td>\n",
      "   <td>\n",
      "    Thursday\n",
      "   </td>\n",
      "   <td>\n",
      "    <a href=\"/Rate\n"
     ]
    }
   ],
   "source": [
    "table = soup.find('table', attrs={'class':'table table-striped table-hover table-hover-solid-row table-simple history-data'})\n",
    "print(table.prettify()[1:500])"
   ]
  },
  {
   "cell_type": "markdown",
   "metadata": {},
   "source": [
    "Finding row length."
   ]
  },
  {
   "cell_type": "code",
   "execution_count": 6,
   "metadata": {},
   "outputs": [
    {
     "data": {
      "text/plain": [
       "130"
      ]
     },
     "execution_count": 6,
     "metadata": {},
     "output_type": "execute_result"
    }
   ],
   "source": [
    "# if we want to get a result of row_length 130 then we should use tr instead of td\n",
    "\n",
    "row = table.find_all('tr')\n",
    "row_length = len(row)\n",
    "row_length"
   ]
  },
  {
   "cell_type": "markdown",
   "metadata": {},
   "source": [
    "Do the scrapping process here."
   ]
  },
  {
   "cell_type": "code",
   "execution_count": 16,
   "metadata": {},
   "outputs": [
    {
     "data": {
      "text/plain": [
       "[<tr><td>10/22/2021</td><td>Friday</td><td><a href=\"/Rate/USD/IDR/10-22-2021\">14,110.21079</a> IDR</td><td class=\"text-narrow-screen-hidden\"><a href=\"/Rate/USD/IDR/10-22-2021\">USD IDR rate for 10/22/2021</a></td></tr>,\n",
       " <tr><td>10/21/2021</td><td>Thursday</td><td><a href=\"/Rate/USD/IDR/10-21-2021\">14,121.60389</a> IDR</td><td class=\"text-narrow-screen-hidden\"><a href=\"/Rate/USD/IDR/10-21-2021\">USD IDR rate for 10/21/2021</a></td></tr>,\n",
       " <tr><td>10/20/2021</td><td>Wednesday</td><td><a href=\"/Rate/USD/IDR/10-20-2021\">14,079.51380</a> IDR</td><td class=\"text-narrow-screen-hidden\"><a href=\"/Rate/USD/IDR/10-20-2021\">USD IDR rate for 10/20/2021</a></td></tr>]"
      ]
     },
     "execution_count": 16,
     "metadata": {},
     "output_type": "execute_result"
    }
   ],
   "source": [
    "row[:3]"
   ]
  },
  {
   "cell_type": "markdown",
   "metadata": {},
   "source": [
    "From `row` we want to extract two things, namely date ('10/22/2021') and rate ('14,110.21079').\n",
    "Both of our columns--date and rate happened to be wrapped around the same `tr`, which is why we need to create a new object for us to store the first row (the exact row that contains our date columns) of every `tr` and then we will loop through that. We'll treat the rate columns just the same as we did for date. Next, we could take every values from that index in every `tr` that we have."
   ]
  },
  {
   "cell_type": "code",
   "execution_count": 8,
   "metadata": {},
   "outputs": [
    {
     "data": {
      "text/plain": [
       "[('10/22/2021', '14,110.21079'),\n",
       " ('10/21/2021', '14,121.60389'),\n",
       " ('10/20/2021', '14,079.51380'),\n",
       " ('10/19/2021', '14,075.46229'),\n",
       " ('10/18/2021', '14,056.43762'),\n",
       " ('10/15/2021', '14,070.19147'),\n",
       " ('10/14/2021', '14,105.27223'),\n",
       " ('10/13/2021', '14,204.85164'),\n",
       " ('10/12/2021', '14,214.84450'),\n",
       " ('10/11/2021', '14,220.90165'),\n",
       " ('10/8/2021', '14,217.98083'),\n",
       " ('10/7/2021', '14,248.99612'),\n",
       " ('10/6/2021', '14,245.00000'),\n",
       " ('10/5/2021', '14,260.00000'),\n",
       " ('10/4/2021', '14,262.54265'),\n",
       " ('10/1/2021', '14,293.86378'),\n",
       " ('9/30/2021', '14,298.48079'),\n",
       " ('9/29/2021', '14,367.73186'),\n",
       " ('9/28/2021', '14,271.16497'),\n",
       " ('9/27/2021', '14,264.68406'),\n",
       " ('9/24/2021', '14,272.18430'),\n",
       " ('9/23/2021', '14,242.87856'),\n",
       " ('9/22/2021', '14,299.15334'),\n",
       " ('9/21/2021', '14,238.62381'),\n",
       " ('9/20/2021', '14,235.10302'),\n",
       " ('9/17/2021', '14,293.12609'),\n",
       " ('9/16/2021', '14,250.19893'),\n",
       " ('9/15/2021', '14,235.96566'),\n",
       " ('9/14/2021', '14,244.84504'),\n",
       " ('9/13/2021', '14,298.65671'),\n",
       " ('9/10/2021', '14,226.67070'),\n",
       " ('9/9/2021', '14,260.57530'),\n",
       " ('9/8/2021', '14,251.89711'),\n",
       " ('9/7/2021', '14,249.33912'),\n",
       " ('9/6/2021', '14,214.47321'),\n",
       " ('9/3/2021', '14,251.87392'),\n",
       " ('9/2/2021', '14,248.52165'),\n",
       " ('9/1/2021', '14,257.71231'),\n",
       " ('8/31/2021', '14,296.13264'),\n",
       " ('8/30/2021', '14,367.01609'),\n",
       " ('8/27/2021', '14,368.74436'),\n",
       " ('8/26/2021', '14,415.01986'),\n",
       " ('8/25/2021', '14,386.20000'),\n",
       " ('8/24/2021', '14,379.34070'),\n",
       " ('8/23/2021', '14,400.21794'),\n",
       " ('8/20/2021', '14,460.04574'),\n",
       " ('8/19/2021', '14,411.77604'),\n",
       " ('8/18/2021', '14,372.20861'),\n",
       " ('8/17/2021', '14,439.92418'),\n",
       " ('8/16/2021', '14,376.39296'),\n",
       " ('8/13/2021', '14,327.19776'),\n",
       " ('8/12/2021', '14,387.28127'),\n",
       " ('8/11/2021', '14,385.48676'),\n",
       " ('8/10/2021', '14,379.25224'),\n",
       " ('8/9/2021', '14,363.60538'),\n",
       " ('8/6/2021', '14,403.07373'),\n",
       " ('8/5/2021', '14,315.95314'),\n",
       " ('8/4/2021', '14,313.11092'),\n",
       " ('8/3/2021', '14,391.49693'),\n",
       " ('8/2/2021', '14,445.82502'),\n",
       " ('7/30/2021', '14,501.55250'),\n",
       " ('7/29/2021', '14,467.14994'),\n",
       " ('7/28/2021', '14,414.21667'),\n",
       " ('7/27/2021', '14,468.66842'),\n",
       " ('7/26/2021', '14,487.54718'),\n",
       " ('7/23/2021', '14,492.63051'),\n",
       " ('7/22/2021', '14,508.09177'),\n",
       " ('7/21/2021', '14,495.34596'),\n",
       " ('7/20/2021', '14,514.10964'),\n",
       " ('7/19/2021', '14,490.12260'),\n",
       " ('7/16/2021', '14,495.41215'),\n",
       " ('7/15/2021', '14,469.95831'),\n",
       " ('7/14/2021', '14,404.17703'),\n",
       " ('7/13/2021', '14,476.52203'),\n",
       " ('7/12/2021', '14,491.59294'),\n",
       " ('7/9/2021', '14,499.31330'),\n",
       " ('7/8/2021', '14,515.87714'),\n",
       " ('7/7/2021', '14,503.93654'),\n",
       " ('7/6/2021', '14,469.58258'),\n",
       " ('7/5/2021', '14,493.33968'),\n",
       " ('7/2/2021', '14,497.65100'),\n",
       " ('7/1/2021', '14,500.00000'),\n",
       " ('6/30/2021', '14,491.89811'),\n",
       " ('6/29/2021', '14,480.00000'),\n",
       " ('6/28/2021', '14,439.22236'),\n",
       " ('6/25/2021', '14,426.82283'),\n",
       " ('6/24/2021', '14,436.21247'),\n",
       " ('6/23/2021', '14,440.32729'),\n",
       " ('6/22/2021', '14,396.08712'),\n",
       " ('6/21/2021', '14,426.42481'),\n",
       " ('6/18/2021', '14,440.13691'),\n",
       " ('6/17/2021', '14,383.75138'),\n",
       " ('6/16/2021', '14,376.12040'),\n",
       " ('6/15/2021', '14,205.14512'),\n",
       " ('6/14/2021', '14,205.68458'),\n",
       " ('6/11/2021', '14,241.97728'),\n",
       " ('6/10/2021', '14,262.89225'),\n",
       " ('6/9/2021', '14,258.61758'),\n",
       " ('6/8/2021', '14,256.29978'),\n",
       " ('6/7/2021', '14,222.58206'),\n",
       " ('6/4/2021', '14,227.49966'),\n",
       " ('6/3/2021', '14,353.54834'),\n",
       " ('6/2/2021', '14,276.29774'),\n",
       " ('6/1/2021', '14,274.83728'),\n",
       " ('5/31/2021', '14,238.06947'),\n",
       " ('5/28/2021', '14,283.54665'),\n",
       " ('5/27/2021', '14,326.24811'),\n",
       " ('5/26/2021', '14,326.06920'),\n",
       " ('5/25/2021', '14,310.90309'),\n",
       " ('5/24/2021', '14,352.31470'),\n",
       " ('5/21/2021', '14,401.13572'),\n",
       " ('5/20/2021', '14,362.81181'),\n",
       " ('5/19/2021', '14,270.34468'),\n",
       " ('5/18/2021', '14,263.79544'),\n",
       " ('5/17/2021', '14,113.45630'),\n",
       " ('5/14/2021', '14,122.81112'),\n",
       " ('5/13/2021', '14,185.45666'),\n",
       " ('5/12/2021', '14,198.91195'),\n",
       " ('5/11/2021', '14,197.76931'),\n",
       " ('5/10/2021', '14,214.65659'),\n",
       " ('5/7/2021', '14,278.55213'),\n",
       " ('5/6/2021', '14,302.00704'),\n",
       " ('5/5/2021', '14,422.43566'),\n",
       " ('5/4/2021', '14,424.14155'),\n",
       " ('5/3/2021', '14,436.81882'),\n",
       " ('4/30/2021', '14,444.45616'),\n",
       " ('4/29/2021', '14,487.67389'),\n",
       " ('4/28/2021', '14,430.69637'),\n",
       " ('4/27/2021', '14,472.65266'),\n",
       " ('4/26/2021', '14,509.39683')]"
      ]
     },
     "execution_count": 8,
     "metadata": {},
     "output_type": "execute_result"
    }
   ],
   "source": [
    "temp = [] #initiate a tuple\n",
    "\n",
    "for i in row:\n",
    "    \n",
    "    daily_rate = i.find_all('td')\n",
    "    daily_rate = daily_rate[0].text\n",
    "    \n",
    "    period = i.find_all('a')\n",
    "    period = period[0].text\n",
    "    \n",
    "    temp.append((daily_rate,period))\n",
    "\n",
    "temp"
   ]
  },
  {
   "cell_type": "markdown",
   "metadata": {},
   "source": [
    "## Creating data frame & Data wrangling"
   ]
  },
  {
   "cell_type": "markdown",
   "metadata": {},
   "source": [
    "Put the array into dataframe"
   ]
  },
  {
   "cell_type": "code",
   "execution_count": 9,
   "metadata": {
    "ExecuteTime": {
     "end_time": "2020-01-13T05:12:41.517372Z",
     "start_time": "2020-01-13T05:12:29.130015Z"
    }
   },
   "outputs": [],
   "source": [
    "import pandas as pd\n",
    "\n",
    "df = pd.DataFrame(temp)\n",
    "df = df.rename(columns={0:'Date',1:'Rate'})"
   ]
  },
  {
   "cell_type": "code",
   "execution_count": 10,
   "metadata": {},
   "outputs": [
    {
     "data": {
      "text/html": [
       "<div>\n",
       "<style scoped>\n",
       "    .dataframe tbody tr th:only-of-type {\n",
       "        vertical-align: middle;\n",
       "    }\n",
       "\n",
       "    .dataframe tbody tr th {\n",
       "        vertical-align: top;\n",
       "    }\n",
       "\n",
       "    .dataframe thead th {\n",
       "        text-align: right;\n",
       "    }\n",
       "</style>\n",
       "<table border=\"1\" class=\"dataframe\">\n",
       "  <thead>\n",
       "    <tr style=\"text-align: right;\">\n",
       "      <th></th>\n",
       "      <th>Date</th>\n",
       "      <th>Rate</th>\n",
       "    </tr>\n",
       "  </thead>\n",
       "  <tbody>\n",
       "    <tr>\n",
       "      <th>0</th>\n",
       "      <td>10/22/2021</td>\n",
       "      <td>14,110.21079</td>\n",
       "    </tr>\n",
       "    <tr>\n",
       "      <th>1</th>\n",
       "      <td>10/21/2021</td>\n",
       "      <td>14,121.60389</td>\n",
       "    </tr>\n",
       "    <tr>\n",
       "      <th>2</th>\n",
       "      <td>10/20/2021</td>\n",
       "      <td>14,079.51380</td>\n",
       "    </tr>\n",
       "    <tr>\n",
       "      <th>3</th>\n",
       "      <td>10/19/2021</td>\n",
       "      <td>14,075.46229</td>\n",
       "    </tr>\n",
       "    <tr>\n",
       "      <th>4</th>\n",
       "      <td>10/18/2021</td>\n",
       "      <td>14,056.43762</td>\n",
       "    </tr>\n",
       "  </tbody>\n",
       "</table>\n",
       "</div>"
      ],
      "text/plain": [
       "         Date          Rate\n",
       "0  10/22/2021  14,110.21079\n",
       "1  10/21/2021  14,121.60389\n",
       "2  10/20/2021  14,079.51380\n",
       "3  10/19/2021  14,075.46229\n",
       "4  10/18/2021  14,056.43762"
      ]
     },
     "execution_count": 10,
     "metadata": {},
     "output_type": "execute_result"
    }
   ],
   "source": [
    "df.head()"
   ]
  },
  {
   "cell_type": "markdown",
   "metadata": {},
   "source": [
    "After we managed to create a dataframe with the the necessary columns and rows that we need, now we will start our data wrangling process.\n",
    "\n",
    "In order for our data to be processed and analysed later, we have to make sure that every columns are stored using the correct and suitable data types. Let us check the data types for both columns by using the `.dtypes` attributes and find out which columns that need to be converted first."
   ]
  },
  {
   "cell_type": "code",
   "execution_count": 11,
   "metadata": {
    "ExecuteTime": {
     "end_time": "2020-01-13T05:12:59.165559Z",
     "start_time": "2020-01-13T05:12:58.910012Z"
    },
    "scrolled": false
   },
   "outputs": [
    {
     "data": {
      "text/plain": [
       "Date    object\n",
       "Rate    object\n",
       "dtype: object"
      ]
     },
     "execution_count": 11,
     "metadata": {},
     "output_type": "execute_result"
    }
   ],
   "source": [
    "df.dtypes"
   ]
  },
  {
   "cell_type": "markdown",
   "metadata": {},
   "source": [
    "We see that both of our columns are still an object. We will have to change our `Date` columns into a datetime while the `Rate` columns will be converted to a float. I also wanted to point out something. If we didn't remove the ' , ' (comma) symbols from our `Rate` columns, then we wouldn't be able to converted it to a float. Therefore, we will use `.str.replace()` method to remove all of the comma symbols from our rows. After the whole columns are in the right data type, then we'll set `Date` column as the index for our data drame."
   ]
  },
  {
   "cell_type": "code",
   "execution_count": 12,
   "metadata": {},
   "outputs": [],
   "source": [
    "df['Rate'] = df['Rate'].str.replace(',','')\n",
    "df['Rate'] = df['Rate'].astype('float64').round(2)\n",
    "df['Date'] = pd.to_datetime(df['Date'])\n",
    "df = df.set_index('Date')"
   ]
  },
  {
   "cell_type": "code",
   "execution_count": 13,
   "metadata": {
    "scrolled": true
   },
   "outputs": [
    {
     "data": {
      "text/plain": [
       "Rate    float64\n",
       "dtype: object"
      ]
     },
     "execution_count": 13,
     "metadata": {},
     "output_type": "execute_result"
    }
   ],
   "source": [
    "df.dtypes"
   ]
  },
  {
   "cell_type": "code",
   "execution_count": 14,
   "metadata": {},
   "outputs": [
    {
     "data": {
      "text/html": [
       "<div>\n",
       "<style scoped>\n",
       "    .dataframe tbody tr th:only-of-type {\n",
       "        vertical-align: middle;\n",
       "    }\n",
       "\n",
       "    .dataframe tbody tr th {\n",
       "        vertical-align: top;\n",
       "    }\n",
       "\n",
       "    .dataframe thead th {\n",
       "        text-align: right;\n",
       "    }\n",
       "</style>\n",
       "<table border=\"1\" class=\"dataframe\">\n",
       "  <thead>\n",
       "    <tr style=\"text-align: right;\">\n",
       "      <th></th>\n",
       "      <th>Rate</th>\n",
       "    </tr>\n",
       "    <tr>\n",
       "      <th>Date</th>\n",
       "      <th></th>\n",
       "    </tr>\n",
       "  </thead>\n",
       "  <tbody>\n",
       "    <tr>\n",
       "      <th>2021-10-22</th>\n",
       "      <td>14110.21</td>\n",
       "    </tr>\n",
       "    <tr>\n",
       "      <th>2021-10-21</th>\n",
       "      <td>14121.60</td>\n",
       "    </tr>\n",
       "    <tr>\n",
       "      <th>2021-10-20</th>\n",
       "      <td>14079.51</td>\n",
       "    </tr>\n",
       "    <tr>\n",
       "      <th>2021-10-19</th>\n",
       "      <td>14075.46</td>\n",
       "    </tr>\n",
       "    <tr>\n",
       "      <th>2021-10-18</th>\n",
       "      <td>14056.44</td>\n",
       "    </tr>\n",
       "  </tbody>\n",
       "</table>\n",
       "</div>"
      ],
      "text/plain": [
       "                Rate\n",
       "Date                \n",
       "2021-10-22  14110.21\n",
       "2021-10-21  14121.60\n",
       "2021-10-20  14079.51\n",
       "2021-10-19  14075.46\n",
       "2021-10-18  14056.44"
      ]
     },
     "execution_count": 14,
     "metadata": {},
     "output_type": "execute_result"
    }
   ],
   "source": [
    "df.head()"
   ]
  },
  {
   "cell_type": "markdown",
   "metadata": {},
   "source": [
    "Voilà! That's all for our data wrangling process. Our data frame is now ready to use and visualised.\n",
    "Since we want to analyse the trend of daily exchange rate between Rupiah and Dollar within the last five months starting from May till October 2021, line chart is seen to be the best plot to use in this case. This is because line chart is often used to visualised a trend in data over intervals of time - a time series."
   ]
  },
  {
   "cell_type": "markdown",
   "metadata": {},
   "source": [
    "### Implementing your webscrapping to the flask dashboard\n",
    "\n",
    "- Copy paste all of your web scrapping process to the desired position on the `app.py`\n",
    "- Changing the title of the dasboard at `index.html`"
   ]
  },
  {
   "cell_type": "markdown",
   "metadata": {},
   "source": [
    "## Finishing This Notebook with Your Analysis and Conclusion\n",
    "\n",
    "First you can do start with making the data visualisation. "
   ]
  },
  {
   "cell_type": "code",
   "execution_count": 15,
   "metadata": {},
   "outputs": [
    {
     "data": {
      "text/plain": [
       "<AxesSubplot:title={'center':'Pergerakan Kurs USD'}, xlabel='Date'>"
      ]
     },
     "execution_count": 15,
     "metadata": {},
     "output_type": "execute_result"
    },
    {
     "data": {
      "image/png": "[encoded data removed]",
      "text/plain": [
       "<Figure size 432x288 with 1 Axes>"
      ]
     },
     "metadata": {
      "needs_background": "light"
     },
     "output_type": "display_data"
    }
   ],
   "source": [
    "import matplotlib.pyplot as plt\n",
    "\n",
    "df.plot(title='Pergerakan Kurs USD')"
   ]
  },
  {
   "cell_type": "markdown",
   "metadata": {
    "ExecuteTime": {
     "end_time": "2020-01-13T05:20:56.208237Z",
     "start_time": "2020-01-13T05:20:56.076043Z"
    }
   },
   "source": [
    "Data diatas merupakan data pergerakan kurs USD terhadap IDR yang diambil selama 5 bulan terakhir yaitu semenjak bulan Mei - Oktober 2021"
   ]
  },
  {
   "cell_type": "markdown",
   "metadata": {},
   "source": [
    "Insights yang dapat diambil dari plot pergerakan kurs USD diatas:\n",
    "\n",
    "1. Kurs dollar tertinggi terdapat pada bulan Juli\n",
    "2. Kurs dollar terendah terdapat pada bulan Oktober\n",
    "3. Kurs dollar mengalami dua kali lonjakan tertinggi yang terjadi pada pertengahan bulan Mei dan Juni\n",
    "4. Penurunan kurs dollar paling signifikan terjadi pada bulan Mei\n",
    "5. Pada bulan September, pergerakan kurs dollar cenderung lebih stabil ketimbang pada bulan lainnya"
   ]
  },
  {
   "cell_type": "markdown",
   "metadata": {},
   "source": [
    "### Extra Challange\n",
    "\n",
    "This will be not included to the scoring. \n",
    "\n",
    "- You can create additional analysis from the data.\n",
    "- Implement it to the dashboard with at `app.py` dan `index.html`."
   ]
  }
 ],
 "metadata": {
  "kernelspec": {
   "display_name": "capstone_da",
   "language": "python",
   "name": "capstone_da"
  },
  "language_info": {
   "codemirror_mode": {
    "name": "ipython",
    "version": 3
   },
   "file_extension": ".py",
   "mimetype": "text/x-python",
   "name": "python",
   "nbconvert_exporter": "python",
   "pygments_lexer": "ipython3",
   "version": "3.8.12"
  }
 },
 "nbformat": 4,
 "nbformat_minor": 2
}
